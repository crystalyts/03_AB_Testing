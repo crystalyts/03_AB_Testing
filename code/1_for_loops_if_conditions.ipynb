{
 "cells": [
  {
   "cell_type": "markdown",
   "metadata": {
    "id": "DBwp0YuM-IJ3"
   },
   "source": [
    "### For loops\n",
    "\n",
    "Whenever you want to apply any transformation to all elements in a list, you iterate through them with a `for` loop."
   ]
  },
  {
   "cell_type": "code",
   "execution_count": 4,
   "metadata": {
    "colab": {
     "base_uri": "https://localhost:8080/"
    },
    "id": "P2rRieYn-IJ4",
    "outputId": "cddd1140-5532-478b-a9e0-34c369a4abf3"
   },
   "outputs": [
    {
     "name": "stdout",
     "output_type": "stream",
     "text": [
      "Hello Justine!\n",
      "Hello Anabel!\n",
      "Hello Karl!\n",
      "Hello Liane!\n"
     ]
    }
   ],
   "source": [
    "names_list = [\"Justine\", \"Anabel\", \"Karl\", \"Liane\"]\n",
    "\n",
    "for name in names_list:\n",
    "    print(\"Hello \" + name + \"!\")"
   ]
  },
  {
   "cell_type": "markdown",
   "metadata": {
    "id": "EYew8fy_-IJ4"
   },
   "source": [
    "Here, the word `name` could really be anything. It is just a placeholder that takes the value of each element in the for loop in every sucessive iteration, until the loop reaches the end of the list. Using a diferent name does not change the result:"
   ]
  },
  {
   "cell_type": "code",
   "execution_count": 3,
   "metadata": {
    "colab": {
     "base_uri": "https://localhost:8080/"
    },
    "id": "R82djo9V-IJ4",
    "outputId": "c6011c10-255b-4a53-94d0-30651be694a9"
   },
   "outputs": [
    {
     "name": "stdout",
     "output_type": "stream",
     "text": [
      "Hello Justine!\n",
      "Hello Anabel!\n",
      "Hello Karl!\n"
     ]
    }
   ],
   "source": [
    "for dinosaur in names_list:\n",
    "    print(\"Hello \" + dinosaur + \"!\")"
   ]
  },
  {
   "cell_type": "markdown",
   "metadata": {
    "id": "kwIGxt6G-IJ4"
   },
   "source": [
    "If we wanted to store the resulting transformations of our loop into a new list, we would define an empty list first, and then `append()` all the elements as we iterate through the loop:"
   ]
  },
  {
   "cell_type": "code",
   "execution_count": 3,
   "metadata": {
    "id": "v2fv0GBk-IJ4"
   },
   "outputs": [],
   "source": [
    "greetings = []\n",
    "\n",
    "for name in names_list:\n",
    "    greetings.append(\"Hello \" + name + \"!\")"
   ]
  },
  {
   "cell_type": "code",
   "execution_count": 4,
   "metadata": {
    "colab": {
     "base_uri": "https://localhost:8080/"
    },
    "id": "na5NQYqS-IJ4",
    "outputId": "de4acd74-43fe-4610-ce19-023d649b8efa"
   },
   "outputs": [
    {
     "data": {
      "text/plain": [
       "['Hello Justine!', 'Hello Anabel!', 'Hello Karl!']"
      ]
     },
     "execution_count": 4,
     "metadata": {},
     "output_type": "execute_result"
    }
   ],
   "source": [
    "greetings"
   ]
  },
  {
   "cell_type": "markdown",
   "metadata": {
    "id": "aaEMo6_D-IJ4"
   },
   "source": [
    "**Exercise 1**. Create a List named `lower_names` with all the names of the students in your batch. Include name and surname, all in lowercase (like `john doe`)."
   ]
  },
  {
   "cell_type": "code",
   "execution_count": 7,
   "metadata": {
    "id": "mROLPc8Z-IJ5"
   },
   "outputs": [],
   "source": [
    "lower_names = [\"yanish veerahoo\", \"kaj kandler\", \"sai deshmukh\", \"liane gybas\", \"mital thombre\", \"ouss kaiser\", \"alex cange\", \"amelie rosenstein\", \"dani vau\", \"jorge murcia\", \"xi krause glucke\", \"pat x\", \"tal shavit\", \"konstantin stekolschikow\", \"sabah ahmed\"]"
   ]
  },
  {
   "cell_type": "markdown",
   "metadata": {
    "id": "k2_aFWyd-IJ5"
   },
   "source": [
    "**Exercise 2** Create a new list `capital_names`  with both the names and surnames capitalized (like `John Doe`), by iterating through the first list with a `for` loop."
   ]
  },
  {
   "cell_type": "code",
   "execution_count": 20,
   "metadata": {
    "id": "z26bvsuC-IJ5"
   },
   "outputs": [],
   "source": [
    "capital_names = []\n",
    "for name in lower_names:\n",
    "    capital_names.append(name.title())\n",
    "    "
   ]
  },
  {
   "cell_type": "code",
   "execution_count": 21,
   "metadata": {},
   "outputs": [
    {
     "name": "stdout",
     "output_type": "stream",
     "text": [
      "['Yanish Veerahoo', 'Kaj Kandler', 'Sai Deshmuk', 'Liane Gybas', 'Mital Diwali', 'Ouss Kaiser', 'Alex Cange', 'Amelie England', 'Dani Vau', 'Jorge Murcia', 'Xi Krause Glucke', 'Pat X', 'Tal Friends', 'Konstantin Glasses', 'Sabah Ahmed']\n"
     ]
    }
   ],
   "source": [
    "print(capital_names)"
   ]
  },
  {
   "cell_type": "markdown",
   "metadata": {
    "id": "A1IyEosz-IJ5"
   },
   "source": [
    "### Conditions with `if`\n",
    "\n",
    "Whenever you want to do something only if a condition is met, you will need an `if` statement. Let's say we want to greet people only if their name starts with \"A\". We will add a few more names to our list:"
   ]
  },
  {
   "cell_type": "code",
   "execution_count": 22,
   "metadata": {
    "id": "qJY4Vyvr-IJ5"
   },
   "outputs": [],
   "source": [
    "names_list = [\"Justine\", \"Amabel\", \"Karl\", \"Anna\", \"Lina\", \"Sergei\", \"Magnus\", \"Aurora\"]"
   ]
  },
  {
   "cell_type": "markdown",
   "metadata": {
    "id": "lj4IYFAw-IJ5"
   },
   "source": [
    "We can check one by one whether they start with \"A\" by selecting them from the list by their position using `[]`, and using the string method you already learned `starts_with()`:"
   ]
  },
  {
   "cell_type": "code",
   "execution_count": 23,
   "metadata": {
    "colab": {
     "base_uri": "https://localhost:8080/"
    },
    "id": "OHzXCA_7-IJ5",
    "outputId": "a88b0d48-5662-4778-d8ba-2ed39f11e73b"
   },
   "outputs": [
    {
     "name": "stdout",
     "output_type": "stream",
     "text": [
      "False\n",
      "True\n"
     ]
    }
   ],
   "source": [
    "# Justine\n",
    "print(names_list[0].startswith(\"A\"))\n",
    "\n",
    "# Amabel\n",
    "print(names_list[1].startswith(\"A\"))"
   ]
  },
  {
   "cell_type": "markdown",
   "metadata": {
    "id": "U3RA3n0A-IJ5"
   },
   "source": [
    "These booleans, `True` or `False`, are exactly what `if` statements need. Whenever a condition is true, the code below the `if` statement runs; if the condition is false, the code is skipped and nothing happens:"
   ]
  },
  {
   "cell_type": "code",
   "execution_count": 24,
   "metadata": {
    "colab": {
     "base_uri": "https://localhost:8080/"
    },
    "id": "dfUOVFhE-IJ5",
    "outputId": "76081d73-84fb-4d11-d95d-107c49ba172c"
   },
   "outputs": [
    {
     "name": "stdout",
     "output_type": "stream",
     "text": [
      "yay\n"
     ]
    }
   ],
   "source": [
    "condition = True\n",
    "\n",
    "if condition:\n",
    "    print(\"yay\")"
   ]
  },
  {
   "cell_type": "code",
   "execution_count": 25,
   "metadata": {
    "id": "IZfrQbNC-IJ5"
   },
   "outputs": [],
   "source": [
    "condition = False\n",
    "\n",
    "if condition:\n",
    "    print(\"yay\")"
   ]
  },
  {
   "cell_type": "markdown",
   "metadata": {
    "id": "a7e4kn5s-IJ6"
   },
   "source": [
    "So we can now tie everything together:\n",
    "\n",
    "- A for loop that iterates through the names.\n",
    "\n",
    "- An `if` statment that checks whether the name starts with \"A\".\n",
    "\n",
    "- A greeting."
   ]
  },
  {
   "cell_type": "code",
   "execution_count": 26,
   "metadata": {
    "colab": {
     "base_uri": "https://localhost:8080/"
    },
    "id": "EqZ2XlZx-IJ6",
    "outputId": "92987dd2-ebdd-4b22-aae4-89facc30b5a0"
   },
   "outputs": [
    {
     "name": "stdout",
     "output_type": "stream",
     "text": [
      "Hello Amabel!\n",
      "Hello Anna!\n",
      "Hello Aurora!\n"
     ]
    }
   ],
   "source": [
    "for name in names_list:\n",
    "    if name.startswith(\"A\"):\n",
    "        print(\"Hello \" + name + \"!\")"
   ]
  },
  {
   "cell_type": "markdown",
   "metadata": {
    "id": "kADtYciG-IJ6"
   },
   "source": [
    "An `else` statement can be added if you want to do something with the elements that did not meet the condition. \n",
    "\n",
    "After the `if` and the `else` statements, you can continue coding normally —and the code will run independently of any conditions. Here, we print some text and a line break:"
   ]
  },
  {
   "cell_type": "code",
   "execution_count": 27,
   "metadata": {
    "colab": {
     "base_uri": "https://localhost:8080/"
    },
    "id": "WTx50fcw-IJ6",
    "outputId": "c4b936df-caed-4d89-d291-a216f532f5d1"
   },
   "outputs": [
    {
     "name": "stdout",
     "output_type": "stream",
     "text": [
      "Bye Justine!\n",
      "Hello Amabel!\n",
      "Bye Karl!\n",
      "Hello Anna!\n",
      "Bye Lina!\n",
      "Bye Sergei!\n",
      "Bye Magnus!\n",
      "Hello Aurora!\n"
     ]
    }
   ],
   "source": [
    "for name in names_list:\n",
    "    if name.startswith(\"A\"):\n",
    "        print(\"Hello \" + name + \"!\")\n",
    "    else:\n",
    "        print(\"Bye \" + name + \"!\")"
   ]
  },
  {
   "cell_type": "markdown",
   "metadata": {
    "id": "VgAX9E4gB6LI"
   },
   "source": [
    "Let's add a text that gets printed after each iteration of the loop, so it is clearer what's going on..."
   ]
  },
  {
   "cell_type": "code",
   "execution_count": 28,
   "metadata": {
    "colab": {
     "base_uri": "https://localhost:8080/"
    },
    "id": "SMffM14b-IJ7",
    "outputId": "92266ba6-1a8b-474b-bc23-b4d1e51fc4fa"
   },
   "outputs": [
    {
     "name": "stdout",
     "output_type": "stream",
     "text": [
      "Bye Justine!\n",
      "next iteration incoming... \n",
      "\n",
      "Hello Amabel!\n",
      "next iteration incoming... \n",
      "\n",
      "Bye Karl!\n",
      "next iteration incoming... \n",
      "\n",
      "Hello Anna!\n",
      "next iteration incoming... \n",
      "\n",
      "Bye Lina!\n",
      "next iteration incoming... \n",
      "\n",
      "Bye Sergei!\n",
      "next iteration incoming... \n",
      "\n",
      "Bye Magnus!\n",
      "next iteration incoming... \n",
      "\n",
      "Hello Aurora!\n",
      "next iteration incoming... \n",
      "\n"
     ]
    }
   ],
   "source": [
    "for name in names_list:\n",
    "    if name.startswith(\"A\"):\n",
    "        print(\"Hello \" + name + \"!\")\n",
    "    else:\n",
    "        print(\"Bye \" + name + \"!\")\n",
    "    print(\"next iteration incoming... \\n\")"
   ]
  },
  {
   "cell_type": "markdown",
   "metadata": {
    "id": "mA72Iw-S-IJ6"
   },
   "source": [
    "**Exercise 3** In the previous code, the \"next iteration incoming...\" text gets printed also for the last iteration, which might be confusing for whoever is reading the output of this code. Tweak the code so that this text only gets printed if we are not in the last element of our list.\n",
    "\n",
    "**Tip**: it is totally normal if you don't know how to approach this exercise right away. You might need to use something we have not seeen in this lesson or the previous one. Google is your friend! If you are stuck for a long time (above 30 min), and have already tried many things, it's time to ask for help to your instructor."
   ]
  },
  {
   "cell_type": "code",
   "execution_count": 29,
   "metadata": {
    "id": "E2iJ9T-U-IJ7"
   },
   "outputs": [
    {
     "name": "stdout",
     "output_type": "stream",
     "text": [
      "Bye Justine!\n",
      "next iteration incoming... \n",
      "\n",
      "Hello Amabel!\n",
      "next iteration incoming... \n",
      "\n",
      "Bye Karl!\n",
      "next iteration incoming... \n",
      "\n",
      "Hello Anna!\n",
      "next iteration incoming... \n",
      "\n",
      "Bye Lina!\n",
      "next iteration incoming... \n",
      "\n",
      "Bye Sergei!\n",
      "next iteration incoming... \n",
      "\n",
      "Bye Magnus!\n",
      "next iteration incoming... \n",
      "\n",
      "Hello Aurora!\n"
     ]
    }
   ],
   "source": [
    "# code here\n",
    "\n",
    "for name in names_list:\n",
    "    if name.startswith(\"A\"):\n",
    "        print(\"Hello \" + name + \"!\")\n",
    "    else:\n",
    "        print(\"Bye \" + name + \"!\")\n",
    "    if name != names_list[-1]:\n",
    "        print(\"next iteration incoming... \\n\")\n",
    "\n",
    "# YEAH YEAH YEAH we have it solved within just a few minutes! confetti!!"
   ]
  },
  {
   "cell_type": "markdown",
   "metadata": {
    "id": "elfVtO9A-IJ7"
   },
   "source": [
    "### Bonus exercises\n",
    "\n"
   ]
  },
  {
   "cell_type": "code",
   "execution_count": 7,
   "metadata": {
    "id": "0xvt0482Cvb7"
   },
   "outputs": [],
   "source": [
    "# some lists and series to work with\n",
    "import pandas as pd\n",
    "\n",
    "car_brands = [\"BMW\", \"Volkswagen\", \"Mercedes\", \"Ford\", \"Apple\", \"Toyota\", \n",
    "              \"Tesla\", \"Kia\", \"Porsche\", \"Mazda\", \"Honda\", \"Jaguar\", \n",
    "              \"Mitsubishi\", \"Audi\", \"Bentley\", \"Bugatti\", \"Chrisler\"]\n",
    "\n",
    "fibonacci = [0, 1, 1, 2, 3, 5, 8, 13, 21, 34, 53, 89, 144]\n",
    "\n",
    "characters = [[\"Harry\", \"Hermoine\", \"Ron\"], \n",
    "              [\"Daenerys Targaryen\", \"Jon Snow\", \"Tyrion Lannister\", \n",
    "               \"Cercei Lannister\", \"Arya Stark\", \"Sansa Stark\"],\n",
    "              [\"Aragorn\", \"Gandalf\", \"Frodo\", \"Legolas\", \"Gollum\", \"Gimli\"],\n",
    "              [\"Walter White\", \"Jesse Pinkman\", \"Gus Fring\"]\n",
    "             ]\n",
    "\n",
    "sex_and_the_city = [\"Carrie\", \"Samantha\", \"Charlotte\", \"Miranda\"]\n",
    "\n",
    "numbers = [1, 51, 59, 2, 95, 25, 28, 67, 14, 63, 84, 33, 56, 31, 54, 97, 77, \n",
    "            98, 46, 84, 6, 66, 86, 77, 69, 19, 77, 7, 76, 19, 59, 77, 28, 34, \n",
    "            94, 4, 45, 95, 41, 66, 5, 38, 35, 57, 84, 38, 94, 65, 45, 80, 83, \n",
    "            22, 12, 100, 52, 55, 31, 69, 29, 67, 4, 39, 87, 49, 81, 82, 96, 4, \n",
    "            85, 62, 90, 72, 70, 26, 29, 63, 48, 94, 58, 9, 49, 79, 33, 63, 41, \n",
    "            13, 90, 37, 31, 3, 11, 54, 56, 72, 91, 97, 2, 83, 82, 6]\n",
    "\n",
    "numbers_ser = pd.Series(numbers)"
   ]
  },
  {
   "cell_type": "markdown",
   "metadata": {
    "id": "E5ZpP-VlDpRx"
   },
   "source": [
    "**Exercise 4:** \n",
    "\n",
    "Implement the for loop that greets people for the `characters` list you used in the previous exercises. For now, do not include any condition —just say hello to every character. What do you need to do to iterate through lists inside a list?"
   ]
  },
  {
   "cell_type": "code",
   "execution_count": 32,
   "metadata": {
    "id": "XOlqcNsb-IJ7"
   },
   "outputs": [
    {
     "name": "stdout",
     "output_type": "stream",
     "text": [
      "Hello Harry!\n",
      "Hello Hermoine!\n",
      "Hello Ron!\n",
      "Hello Daenerys Targaryen!\n",
      "Hello Jon Snow!\n",
      "Hello Tyrion Lannister!\n",
      "Hello Cercei Lannister!\n",
      "Hello Arya Stark!\n",
      "Hello Sansa Stark!\n",
      "Hello Aragorn!\n",
      "Hello Gandalf!\n",
      "Hello Frodo!\n",
      "Hello Legolas!\n",
      "Hello Gollum!\n",
      "Hello Gimli!\n",
      "Hello Walter White!\n",
      "Hello Jesse Pinkman!\n",
      "Hello Gus Fring!\n"
     ]
    }
   ],
   "source": [
    "# code here\n",
    "for group in characters:\n",
    "    for name in group:\n",
    "        print(\"Hello \" + name + \"!\")\n"
   ]
  },
  {
   "cell_type": "markdown",
   "metadata": {
    "id": "8d-IfDLn-IJ7"
   },
   "source": [
    "**Exercise 5:** \n",
    "\n",
    "Tweak the code of the previous exercise to greet characters based on these conditions:\n",
    "\n",
    "- If their name is composed of two words (Name Surname), the greeting should be \"Hello Name, from the house of Surname\".\n",
    "\n",
    "- If their name is shorter than 6 characters, the greeting should replicate the last letter of the name as many times as needed until it reaches 6 characters."
   ]
  },
  {
   "cell_type": "code",
   "execution_count": 53,
   "metadata": {
    "id": "XN4BwD-A-IJ7"
   },
   "outputs": [
    {
     "name": "stdout",
     "output_type": "stream",
     "text": [
      "Hello Harryy\n",
      "Hello Hermoine\n",
      "Hello Ronnnn\n",
      "Hello Daenerys, from the house of Targaryen\n",
      "Hello Jon, from the house of Snow\n",
      "Hello Tyrion, from the house of Lannister\n",
      "Hello Cercei, from the house of Lannister\n",
      "Hello Arya, from the house of Stark\n",
      "Hello Sansa, from the house of Stark\n",
      "Hello Aragorn\n",
      "Hello Gandalf\n",
      "Hello Frodoo\n",
      "Hello Legolas\n",
      "Hello Gollum\n",
      "Hello Gimlii\n",
      "Hello Walter, from the house of White\n",
      "Hello Jesse, from the house of Pinkman\n",
      "Hello Gus, from the house of Fring\n"
     ]
    }
   ],
   "source": [
    "# code here\n",
    "#for group in characters:\n",
    "#    for name in group:\n",
    "#        print(name)\n",
    "#        print(type(name))\n",
    "#        has_short_name = len(name) < 6\n",
    "#        has_surname = \n",
    "#        if name.split(\" \", expand=True) == True:\n",
    "#            print(\"stuff\")\n",
    "            \n",
    "#            print(\"Hello \" + name.split[0] + \", from the house of \" + name.split[1] + \".\")\n",
    "#        else:\n",
    "#            print(\"Hello \" + name + \"!\")\n",
    "\n",
    "            \n",
    "#pattern = r\" \"\n",
    "#name.str.contains(pattern)\n",
    "\n",
    "#people[['first_name', 'last_name']] = people['name'].str.split(\" \", expand=True) \n",
    "#print(people)\n",
    "\n",
    "for i in characters:\n",
    "  for n in i:\n",
    "    if len(n.split())> 1:\n",
    "      print( \"Hello \"+ n.split()[0]+\", from the house of \"+n.split()[1])\n",
    "    elif len(n.split())== 1:\n",
    "      print('Hello ' +n.ljust(6,n[-1]))\n",
    "    else:\n",
    "      print('Hello '  + n)"
   ]
  },
  {
   "cell_type": "markdown",
   "metadata": {
    "id": "S3q7FjMnG94g"
   },
   "source": [
    "**Exercise 6:** \n",
    "\n",
    "\n",
    "Take 50 samples(with replacement), each one of size 10 from `numbers_ser` series."
   ]
  },
  {
   "cell_type": "code",
   "execution_count": 10,
   "metadata": {
    "id": "d6NztYnADDEl"
   },
   "outputs": [],
   "source": [
    "#code here\n",
    "num_samples = 50\n",
    "sample_size = 10\n",
    "sampled_data_list = [numbers_ser.sample(sample_size, replace=True) for _ in range(num_samples)]"
   ]
  },
  {
   "cell_type": "code",
   "execution_count": 13,
   "metadata": {},
   "outputs": [
    {
     "name": "stdout",
     "output_type": "stream",
     "text": [
      "Sample 1:\n",
      "[58, 80, 25, 29, 80, 51, 29, 76, 25, 84]\n",
      "\n",
      "Sample 2:\n",
      "[55, 5, 56, 12, 63, 25, 66, 82, 29, 90]\n",
      "\n",
      "Sample 3:\n",
      "[77, 51, 31, 4, 45, 94, 3, 67, 94, 4]\n",
      "\n",
      "Sample 4:\n",
      "[100, 56, 54, 66, 81, 4, 72, 94, 11, 31]\n",
      "\n",
      "Sample 5:\n",
      "[2, 63, 98, 31, 82, 72, 31, 69, 52, 35]\n",
      "\n",
      "Sample 6:\n",
      "[25, 59, 94, 69, 66, 51, 33, 77, 85, 59]\n",
      "\n",
      "Sample 7:\n",
      "[31, 49, 83, 31, 4, 1, 63, 29, 28, 69]\n",
      "\n",
      "Sample 8:\n",
      "[41, 33, 69, 77, 59, 45, 76, 81, 84, 94]\n",
      "\n",
      "Sample 9:\n",
      "[94, 81, 77, 7, 85, 83, 35, 69, 45, 29]\n",
      "\n",
      "Sample 10:\n",
      "[35, 48, 77, 84, 59, 51, 56, 34, 98, 95]\n",
      "\n",
      "Sample 11:\n",
      "[63, 63, 29, 84, 69, 94, 84, 41, 19, 11]\n",
      "\n",
      "Sample 12:\n",
      "[51, 19, 25, 11, 33, 63, 11, 65, 19, 52]\n",
      "\n",
      "Sample 13:\n",
      "[69, 69, 79, 14, 77, 100, 1, 62, 33, 97]\n",
      "\n",
      "Sample 14:\n",
      "[69, 6, 95, 54, 12, 66, 45, 96, 25, 90]\n",
      "\n",
      "Sample 15:\n",
      "[84, 91, 35, 45, 72, 29, 28, 41, 6, 31]\n",
      "\n",
      "Sample 16:\n",
      "[67, 91, 87, 66, 94, 62, 54, 7, 29, 6]\n",
      "\n",
      "Sample 17:\n",
      "[45, 95, 13, 35, 37, 9, 31, 7, 97, 59]\n",
      "\n",
      "Sample 18:\n",
      "[62, 5, 97, 46, 4, 33, 12, 84, 82, 77]\n",
      "\n",
      "Sample 19:\n",
      "[96, 13, 77, 59, 39, 39, 3, 83, 29, 31]\n",
      "\n",
      "Sample 20:\n",
      "[28, 81, 98, 6, 69, 79, 4, 67, 76, 77]\n",
      "\n",
      "Sample 21:\n",
      "[37, 69, 80, 84, 66, 83, 31, 98, 58, 84]\n",
      "\n",
      "Sample 22:\n",
      "[5, 38, 19, 41, 77, 28, 29, 84, 87, 11]\n",
      "\n",
      "Sample 23:\n",
      "[94, 79, 55, 37, 76, 31, 63, 94, 70, 56]\n",
      "\n",
      "Sample 24:\n",
      "[65, 90, 31, 45, 70, 69, 34, 55, 38, 94]\n",
      "\n",
      "Sample 25:\n",
      "[59, 45, 63, 45, 49, 87, 54, 28, 33, 82]\n",
      "\n",
      "Sample 26:\n",
      "[49, 77, 57, 91, 9, 35, 5, 90, 69, 66]\n",
      "\n",
      "Sample 27:\n",
      "[65, 55, 84, 54, 35, 97, 11, 87, 91, 72]\n",
      "\n",
      "Sample 28:\n",
      "[56, 37, 4, 79, 6, 31, 57, 52, 4, 59]\n",
      "\n",
      "Sample 29:\n",
      "[54, 9, 4, 38, 38, 96, 26, 83, 84, 13]\n",
      "\n",
      "Sample 30:\n",
      "[67, 84, 49, 4, 48, 22, 58, 38, 67, 54]\n",
      "\n",
      "Sample 31:\n",
      "[94, 31, 41, 77, 29, 35, 22, 35, 62, 46]\n",
      "\n",
      "Sample 32:\n",
      "[31, 14, 97, 57, 90, 4, 65, 22, 84, 76]\n",
      "\n",
      "Sample 33:\n",
      "[95, 72, 41, 84, 1, 81, 4, 28, 95, 3]\n",
      "\n",
      "Sample 34:\n",
      "[5, 34, 79, 1, 63, 9, 45, 77, 1, 45]\n",
      "\n",
      "Sample 35:\n",
      "[3, 96, 22, 66, 80, 90, 56, 35, 91, 2]\n",
      "\n",
      "Sample 36:\n",
      "[12, 59, 82, 4, 49, 72, 76, 6, 90, 98]\n",
      "\n",
      "Sample 37:\n",
      "[84, 94, 39, 6, 28, 19, 2, 7, 63, 94]\n",
      "\n",
      "Sample 38:\n",
      "[54, 52, 100, 87, 83, 31, 80, 100, 69, 11]\n",
      "\n",
      "Sample 39:\n",
      "[31, 31, 31, 7, 94, 9, 7, 41, 66, 90]\n",
      "\n",
      "Sample 40:\n",
      "[5, 62, 94, 25, 29, 39, 37, 83, 33, 59]\n",
      "\n",
      "Sample 41:\n",
      "[49, 69, 1, 41, 19, 31, 37, 72, 98, 57]\n",
      "\n",
      "Sample 42:\n",
      "[6, 31, 77, 63, 87, 19, 59, 9, 58, 69]\n",
      "\n",
      "Sample 43:\n",
      "[62, 96, 95, 90, 62, 70, 4, 83, 77, 65]\n",
      "\n",
      "Sample 44:\n",
      "[83, 77, 69, 41, 69, 77, 4, 33, 55, 51]\n",
      "\n",
      "Sample 45:\n",
      "[66, 5, 34, 31, 66, 63, 11, 38, 41, 67]\n",
      "\n",
      "Sample 46:\n",
      "[94, 54, 70, 56, 82, 45, 19, 96, 14, 56]\n",
      "\n",
      "Sample 47:\n",
      "[26, 37, 2, 90, 81, 94, 31, 6, 31, 81]\n",
      "\n",
      "Sample 48:\n",
      "[82, 13, 35, 13, 45, 97, 65, 2, 96, 55]\n",
      "\n",
      "Sample 49:\n",
      "[63, 48, 67, 82, 52, 76, 4, 76, 29, 59]\n",
      "\n",
      "Sample 50:\n",
      "[39, 77, 65, 37, 97, 37, 62, 96, 54, 87]\n",
      "\n"
     ]
    }
   ],
   "source": [
    "for i, sample in enumerate(sampled_data_list, 1):\n",
    "    print(f\"Sample {i}:\")\n",
    "    print(sample.tolist())\n",
    "    print()"
   ]
  },
  {
   "cell_type": "code",
   "execution_count": null,
   "metadata": {},
   "outputs": [],
   "source": []
  }
 ],
 "metadata": {
  "colab": {
   "collapsed_sections": [
    "DBwp0YuM-IJ3",
    "A1IyEosz-IJ5",
    "elfVtO9A-IJ7"
   ],
   "provenance": []
  },
  "kernelspec": {
   "display_name": "Python 3 (ipykernel)",
   "language": "python",
   "name": "python3"
  },
  "language_info": {
   "codemirror_mode": {
    "name": "ipython",
    "version": 3
   },
   "file_extension": ".py",
   "mimetype": "text/x-python",
   "name": "python",
   "nbconvert_exporter": "python",
   "pygments_lexer": "ipython3",
   "version": "3.9.16"
  },
  "vscode": {
   "interpreter": {
    "hash": "b8f2f4ada2c80ea9ac5ce6703ded092576c26007afc915a8876876e3c9a694db"
   }
  }
 },
 "nbformat": 4,
 "nbformat_minor": 4
}
